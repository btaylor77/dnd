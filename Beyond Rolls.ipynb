{
 "cells": [
  {
   "cell_type": "code",
   "execution_count": 11,
   "id": "3c42fcd6",
   "metadata": {},
   "outputs": [],
   "source": [
    "import pandas as pd\n",
    "import random\n",
    "from d20 import roll"
   ]
  },
  {
   "cell_type": "code",
   "execution_count": 12,
   "id": "d61976b6",
   "metadata": {},
   "outputs": [],
   "source": [
    "excel_file = 'https://github.com/btaylor77/dnd/blob/main/beyond_pandas.xlsx?raw=true'\n",
    "#excel_file = '/Users/Brad/Documents/git/dnd/beyond_pandas.xlsx'\n",
    "hoard_df = pd.read_excel(excel_file,'hoard_items',engine='openpyxl').fillna(0)\n",
    "spell_df = pd.read_excel(excel_file,'spell_list',index_col='Spell Name',engine='openpyxl')\n",
    "class_df = pd.read_excel(excel_file,'class_spell_list',index_col='Spell Name',engine='openpyxl')\n",
    "items_df = pd.read_excel(excel_file,'magic_items',index_col='item_name',engine='openpyxl')\n",
    "coins_df = pd.read_excel(excel_file,'coins',engine='openpyxl').fillna(0)\n",
    "treasure_df = pd.read_excel(excel_file,'treasure',engine='openpyxl').fillna(0)\n",
    "damage_types = ['acid','cold','fire','force','lightning','necrotic','psychic','poison','radiant','thunder']\n",
    "monster_types = ['Abberation','Beast','Celestial','Construct','Dragon','Elemental','Fey','Fiend','Giant','Humanoid','Monstrosity','Ooze','Plant','Undead']\n",
    "swords = ['Greatsword','Longsword','Rapier','Scimitar','Shortsword']\n",
    "weapons = swords + ['Battleaxe','Blowgun','Club','Crossbow, hand','Crossbow, heavy','Crossbow, light','Dagger','Dart','Flail','Glaive','Greataxe','Greatclub','Halberd','Handaxe','Javelin','Lance','Light hammer','Longbow','Mace','Maul','Morningstar','Net','Pike','Quarterstaff','Shortbow','Sickle','Sling','Spear','Trident','War pick','Warhammer','Whip',]\n",
    "\n",
    "party = [('bard','base'),('bard','optional'),\n",
    "          ('cleric','peace'),('cleric','base'),('cleric','optional'),\n",
    "          ('warlock','base'),('warlock','fiend'),('warlock','optional'),\n",
    "          ('wizard','base'),('wizard','optional')\n",
    "        ]\n",
    "all_class = [('artificer','base'),('bard','base'),('cleric','base'),('druid','base'),('paladin','base'),('ranger','base'),('sorcerer','base'),('wizard','base'),('warlock','base')]\n",
    "arcane_class = [('artificer','base'),('bard','base'),('sorcerer','base'),('wizard','base'),('warlock','base')]\n",
    "divine_class = [('cleric','base'),('druid','base'),('paladin','base'),('ranger','base')]\n"
   ]
  },
  {
   "cell_type": "code",
   "execution_count": 13,
   "id": "53f6dec5",
   "metadata": {},
   "outputs": [],
   "source": [
    "def roll_spells(min_level,max_level,classes,n=1):\n",
    "    target_df = class_df.copy()\n",
    "    target_df = target_df[(target_df['Level'] >= min_level) & (target_df['Level'] <= max_level) ]\n",
    "    target_df = target_df[target_df[[\"Class\",\"Subclass\"]].apply(tuple, 1).isin(classes)]\n",
    "    spells = target_df.index.values.tolist()\n",
    "    select = pd.Series(random.choices(spells,k=n)).unique()\n",
    "    target_df = spell_df.loc[select].sort_values(['Level','Spell Name'])\n",
    "    return target_df\n",
    "\n",
    "def roll_magic_items(table,n):\n",
    "    if n > 0:\n",
    "        target_df = items_df.copy()\n",
    "        target_df = target_df[target_df['table_name']==table]\n",
    "        target_df = target_df.reset_index()\n",
    "        try:\n",
    "            select = random.choices(target_df.index.values.tolist(),k=n,weights=list(target_df['weight']))\n",
    "        except:\n",
    "            print(table)\n",
    "        target_df = target_df.loc[select]\n",
    "        target_df['item_name'] = target_df.apply(lambda row: 'Scroll Of ' + roll_spells(row['spell_level'],row['spell_level'],party,n=1).index.values[0] if row['spell_level'] in range(9) else row['item_name'], axis=1)\n",
    "        target_df['item_name'] = target_df.apply(lambda row: row['item_name'] + ' (' + random.choice(damage_types) + ')' if row['damage_type_flag'] == 1 else row['item_name'], axis=1)\n",
    "        target_df['item_name'] = target_df.apply(lambda row: row['item_name'] + ' (' + random.choice(monster_types) + ')' if row['monster_type_flag'] == 1 else row['item_name'], axis=1)\n",
    "        target_df['item_name'] = target_df.apply(lambda row: row['item_name'] + ' (' + random.choice(swords) + ')' if row['sword_flag'] == 1 else row['item_name'], axis=1)\n",
    "        target_df['item_name'] = target_df.apply(lambda row: row['item_name'] + ' (' + random.choice(weapons) + ')' if row['weapon_flag'] == 1 else row['item_name'], axis=1)\n",
    "        target_df = target_df.sort_values('item_name')\n",
    "    else:\n",
    "        target_df = pd.DataFrame(columns=['item_name'])\n",
    "    return target_df\n",
    "\n",
    "def roll_coins(crs=[],coin_type='single'):\n",
    "    result_df = pd.DataFrame()\n",
    "    for cr in crs:\n",
    "        target_df = coins_df.copy()\n",
    "        target_df = target_df[(target_df['min_cr']<= cr) & (target_df['max_cr'] >= cr) & (target_df['coin_type']==coin_type)]\n",
    "        select = random.choices(target_df.index.values.tolist(),k=1,weights=list(target_df['weight']))\n",
    "        target_df = target_df.loc[select][['CP','SP','EP','GP','PP']]\n",
    "        result_df = result_df.append(target_df)\n",
    "        result_df['CP'] = result_df['CP'].apply(lambda x: roll(str(x)).total)\n",
    "        result_df['SP'] = result_df['SP'].apply(lambda x: roll(str(x)).total)\n",
    "        result_df['EP'] = result_df['EP'].apply(lambda x: roll(str(x)).total)\n",
    "        result_df['GP'] = result_df['GP'].apply(lambda x: roll(str(x)).total)\n",
    "        result_df['PP'] = result_df['PP'].apply(lambda x: roll(str(x)).total)\n",
    "        total_coins = pd.DataFrame(result_df.sum(axis=0)).transpose()\n",
    "#        result_df = result_df.apply(lambda x: roll(x).total)\n",
    "    result_df = total_coins.transpose().reset_index()\n",
    "    result_df['treasure'] = result_df.apply(lambda x: str(x[0]) + ' ' + x['index'].lower(),axis=1)\n",
    "    coins = result_df[result_df[0] > 0]['treasure'].values.tolist()\n",
    "    return coins\n",
    "\n",
    "def roll_treasure(gp,n):\n",
    "    results = []\n",
    "    if n > 0:\n",
    "        target_df = treasure_df[treasure_df['GP']==gp]\n",
    "        results = []\n",
    "        for i in range(n):\n",
    "            select = random.choice(target_df.index.values.tolist())\n",
    "            results.append(select)\n",
    "        target_df = target_df.loc[results].groupby('treasure_name').count()\n",
    "        target_df = target_df.rename(columns={\"GP\":\"count\"})\n",
    "        target_df['each'] = target_df.apply(lambda row: ' each' if row['count']>1 else '',axis=1)\n",
    "\n",
    "        target_df = target_df.reset_index()\n",
    "        target_df['treasure_desc'] = target_df.apply(lambda row: str(row['count']) + ' ' + row['treasure_name'] + ' worth ' + str(gp) + 'gp' + row['each'],axis=1)\n",
    "        results = target_df['treasure_desc'].values.tolist()\n",
    "    return results\n",
    "\n",
    "def roll_hoard(cr):\n",
    "    loot = []\n",
    "    target_df = hoard_df.copy()\n",
    "    target_df['cr'] = cr\n",
    "    target_df = target_df[(target_df['min_cr']<= cr) & (target_df['max_cr'] >= cr)]\n",
    "    select = random.choices(target_df.index.values.tolist(),k=1,weights=list(target_df['weight']))\n",
    "    target_df = target_df.loc[select]\n",
    "    target_df['treasure_die'] = target_df['treasure_die'].apply(lambda x: roll(str(x)).total)\n",
    "    target_df['magic_item_die_1'] = target_df['magic_item_die_1'].apply(lambda x: roll(str(x)).total)\n",
    "    target_df['magic_item_die_2'] = target_df['magic_item_die_2'].apply(lambda x: roll(str(x)).total)\n",
    "    target_df = target_df.drop(columns=['min_cr','max_cr','weight'])\n",
    "    items1 = list(roll_magic_items(target_df['magic_item_table_1'].values[0],target_df['magic_item_die_1'].values[0])['item_name'].values.tolist())\n",
    "    items2 = list(roll_magic_items(target_df['magic_item_table_2'].values[0],target_df['magic_item_die_2'].values[0])['item_name'].values.tolist())\n",
    "    treasure = roll_treasure(target_df['treasure_value'].values[0],target_df['treasure_die'].values[0])\n",
    "    coins = roll_coins([cr],'hoard')\n",
    "    loot = loot + treasure + coins + items1 + items2\n",
    "    target_df = target_df.reset_index(drop=True)\n",
    "\n",
    "    return loot#target_df"
   ]
  },
  {
   "cell_type": "code",
   "execution_count": 14,
   "id": "d1f82f4b",
   "metadata": {},
   "outputs": [
    {
     "name": "stdout",
     "output_type": "stream",
     "text": [
      "1 Bottle stopper cork embossed with gold leaf and set with amethysts worth 750gp\n",
      "1 Carved harp of exotic wood with ivory inlay and zircon gems worth 750gp\n",
      "1 Ceremonial electrum dagger with a black pearl in the pommel worth 750gp\n",
      "2 Painted gold war mask worth 750gp each\n",
      "19000 gp\n",
      "2000 pp\n",
      "All-Purpose Tool, +3\n",
      "Armor, +1 Studded Leather\n"
     ]
    }
   ],
   "source": [
    "for i in roll_hoard(15):\n",
    "    print(i)"
   ]
  },
  {
   "cell_type": "code",
   "execution_count": 15,
   "id": "2a8158d7",
   "metadata": {},
   "outputs": [
    {
     "name": "stdout",
     "output_type": "stream",
     "text": [
      "916 cp\n",
      "137 sp\n",
      "20 ep\n",
      "340 gp\n",
      "18 pp\n"
     ]
    }
   ],
   "source": [
    "for i in roll_coins([5,5,5,3,3,2,3,5,10],'single'):\n",
    "    print(i)"
   ]
  },
  {
   "cell_type": "code",
   "execution_count": null,
   "id": "ef90c220",
   "metadata": {},
   "outputs": [],
   "source": []
  }
 ],
 "metadata": {
  "kernelspec": {
   "display_name": "Python 3 (ipykernel)",
   "language": "python",
   "name": "python3"
  },
  "language_info": {
   "codemirror_mode": {
    "name": "ipython",
    "version": 3
   },
   "file_extension": ".py",
   "mimetype": "text/x-python",
   "name": "python",
   "nbconvert_exporter": "python",
   "pygments_lexer": "ipython3",
   "version": "3.9.7"
  }
 },
 "nbformat": 4,
 "nbformat_minor": 5
}
