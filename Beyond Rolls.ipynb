{
 "cells": [
  {
   "cell_type": "code",
   "execution_count": 114,
   "id": "3c42fcd6",
   "metadata": {},
   "outputs": [],
   "source": [
    "import pandas as pd\n",
    "import random"
   ]
  },
  {
   "cell_type": "code",
   "execution_count": 117,
   "id": "e8f454a4",
   "metadata": {},
   "outputs": [
    {
     "name": "stdout",
     "output_type": "stream",
     "text": [
      "Help on method choice in module random:\n",
      "\n",
      "choice(seq) method of random.Random instance\n",
      "    Choose a random element from a non-empty sequence.\n",
      "\n"
     ]
    }
   ],
   "source": [
    "help(random.choice)"
   ]
  },
  {
   "cell_type": "code",
   "execution_count": 206,
   "id": "d61976b6",
   "metadata": {},
   "outputs": [],
   "source": [
    "spell_df = pd.read_excel('/Users/Brad/Documents/DnD/beyond_pandas.xlsx','spell_list')\n",
    "class_df = pd.read_excel('/Users/Brad/Documents/DnD/beyond_pandas.xlsx','class_spell_list')\n",
    "items_df = pd.read_excel('/Users/Brad/Documents/DnD/beyond_pandas.xlsx','magic_items')"
   ]
  },
  {
   "cell_type": "code",
   "execution_count": 207,
   "id": "d867abd0",
   "metadata": {},
   "outputs": [
    {
     "data": {
      "text/html": [
       "<div>\n",
       "<style scoped>\n",
       "    .dataframe tbody tr th:only-of-type {\n",
       "        vertical-align: middle;\n",
       "    }\n",
       "\n",
       "    .dataframe tbody tr th {\n",
       "        vertical-align: top;\n",
       "    }\n",
       "\n",
       "    .dataframe thead th {\n",
       "        text-align: right;\n",
       "    }\n",
       "</style>\n",
       "<table border=\"1\" class=\"dataframe\">\n",
       "  <thead>\n",
       "    <tr style=\"text-align: right;\">\n",
       "      <th></th>\n",
       "      <th>begin_chance</th>\n",
       "      <th>end_chance</th>\n",
       "      <th>d100</th>\n",
       "      <th>percent_chance</th>\n",
       "      <th>item_name</th>\n",
       "      <th>table_name</th>\n",
       "    </tr>\n",
       "  </thead>\n",
       "  <tbody>\n",
       "    <tr>\n",
       "      <th>0</th>\n",
       "      <td>1</td>\n",
       "      <td>50</td>\n",
       "      <td>01–50</td>\n",
       "      <td>50</td>\n",
       "      <td>Potion of healing</td>\n",
       "      <td>A</td>\n",
       "    </tr>\n",
       "    <tr>\n",
       "      <th>1</th>\n",
       "      <td>51</td>\n",
       "      <td>60</td>\n",
       "      <td>51–60</td>\n",
       "      <td>10</td>\n",
       "      <td>Spell scroll (cantrip) - Artificer</td>\n",
       "      <td>A</td>\n",
       "    </tr>\n",
       "    <tr>\n",
       "      <th>2</th>\n",
       "      <td>51</td>\n",
       "      <td>60</td>\n",
       "      <td>51–60</td>\n",
       "      <td>10</td>\n",
       "      <td>Spell scroll (cantrip) - Bard</td>\n",
       "      <td>A</td>\n",
       "    </tr>\n",
       "    <tr>\n",
       "      <th>3</th>\n",
       "      <td>51</td>\n",
       "      <td>60</td>\n",
       "      <td>51–60</td>\n",
       "      <td>10</td>\n",
       "      <td>Spell scroll (cantrip) - Cleric</td>\n",
       "      <td>A</td>\n",
       "    </tr>\n",
       "    <tr>\n",
       "      <th>4</th>\n",
       "      <td>51</td>\n",
       "      <td>60</td>\n",
       "      <td>51–60</td>\n",
       "      <td>10</td>\n",
       "      <td>Spell scroll (cantrip) - Druid</td>\n",
       "      <td>A</td>\n",
       "    </tr>\n",
       "    <tr>\n",
       "      <th>...</th>\n",
       "      <td>...</td>\n",
       "      <td>...</td>\n",
       "      <td>...</td>\n",
       "      <td>...</td>\n",
       "      <td>...</td>\n",
       "      <td>...</td>\n",
       "    </tr>\n",
       "    <tr>\n",
       "      <th>556</th>\n",
       "      <td>61</td>\n",
       "      <td>61</td>\n",
       "      <td>61</td>\n",
       "      <td>1</td>\n",
       "      <td>Armor of resistance (breastplate) - Thunder</td>\n",
       "      <td>H</td>\n",
       "    </tr>\n",
       "    <tr>\n",
       "      <th>557</th>\n",
       "      <td>95</td>\n",
       "      <td>95</td>\n",
       "      <td>95</td>\n",
       "      <td>1</td>\n",
       "      <td>Armor of resistance (splint) - Thunder</td>\n",
       "      <td>H</td>\n",
       "    </tr>\n",
       "    <tr>\n",
       "      <th>558</th>\n",
       "      <td>97</td>\n",
       "      <td>97</td>\n",
       "      <td>97</td>\n",
       "      <td>1</td>\n",
       "      <td>Armor of resistance (studded leather) - Thunder</td>\n",
       "      <td>H</td>\n",
       "    </tr>\n",
       "    <tr>\n",
       "      <th>559</th>\n",
       "      <td>83</td>\n",
       "      <td>83</td>\n",
       "      <td>83</td>\n",
       "      <td>1</td>\n",
       "      <td>Armor of resistance (half plate) - Thunder</td>\n",
       "      <td>I</td>\n",
       "    </tr>\n",
       "    <tr>\n",
       "      <th>560</th>\n",
       "      <td>90</td>\n",
       "      <td>90</td>\n",
       "      <td>90</td>\n",
       "      <td>1</td>\n",
       "      <td>Armor of resistance (plate) - Thunder</td>\n",
       "      <td>I</td>\n",
       "    </tr>\n",
       "  </tbody>\n",
       "</table>\n",
       "<p>561 rows × 6 columns</p>\n",
       "</div>"
      ],
      "text/plain": [
       "     begin_chance  end_chance   d100  percent_chance  \\\n",
       "0               1          50  01–50              50   \n",
       "1              51          60  51–60              10   \n",
       "2              51          60  51–60              10   \n",
       "3              51          60  51–60              10   \n",
       "4              51          60  51–60              10   \n",
       "..            ...         ...    ...             ...   \n",
       "556            61          61     61               1   \n",
       "557            95          95     95               1   \n",
       "558            97          97     97               1   \n",
       "559            83          83     83               1   \n",
       "560            90          90     90               1   \n",
       "\n",
       "                                           item_name table_name  \n",
       "0                                  Potion of healing          A  \n",
       "1                 Spell scroll (cantrip) - Artificer          A  \n",
       "2                      Spell scroll (cantrip) - Bard          A  \n",
       "3                    Spell scroll (cantrip) - Cleric          A  \n",
       "4                     Spell scroll (cantrip) - Druid          A  \n",
       "..                                               ...        ...  \n",
       "556      Armor of resistance (breastplate) - Thunder          H  \n",
       "557           Armor of resistance (splint) - Thunder          H  \n",
       "558  Armor of resistance (studded leather) - Thunder          H  \n",
       "559       Armor of resistance (half plate) - Thunder          I  \n",
       "560            Armor of resistance (plate) - Thunder          I  \n",
       "\n",
       "[561 rows x 6 columns]"
      ]
     },
     "execution_count": 207,
     "metadata": {},
     "output_type": "execute_result"
    }
   ],
   "source": [
    "items_df"
   ]
  },
  {
   "cell_type": "markdown",
   "id": "ea4a7e49",
   "metadata": {},
   "source": [
    "merge_df = class_df.merge(spell_df,how='left',left_on='Name',right_on='Spell Name')"
   ]
  },
  {
   "cell_type": "code",
   "execution_count": 208,
   "id": "53f6dec5",
   "metadata": {},
   "outputs": [],
   "source": [
    "def pick_spells(df,level,class_name='all',subclass_name='base',n=1):\n",
    "    results = []\n",
    "    spells = df[(df['Level'].str.lower()==level.lower()) & ((df['Class'].str.lower()==class_name.lower()) | (class_name == 'all')) & (df['Subclass'].str.lower()==subclass_name.lower())]['Name']\n",
    "    for i in range(n):\n",
    "        choice = random.choice(list(spells))\n",
    "        results.append(choice)\n",
    "    return results"
   ]
  },
  {
   "cell_type": "code",
   "execution_count": 209,
   "id": "6df883e3",
   "metadata": {},
   "outputs": [],
   "source": [
    "def pick_items(df,table,n=1):\n",
    "    results = []\n",
    "    for i in range(n):\n",
    "        d100 = random.randrange(1,101)\n",
    "        items = df[(df['table_name'].str.upper()==table.upper()) & \n",
    "                   (df['begin_chance'] <= d100) & \n",
    "                   (df['end_chance'] >= d100)]['item_name']\n",
    "        choice = random.choice(list(items))\n",
    "        results.append(choice)\n",
    "    return results"
   ]
  },
  {
   "cell_type": "code",
   "execution_count": 318,
   "id": "7027964b",
   "metadata": {
    "scrolled": true
   },
   "outputs": [
    {
     "data": {
      "text/plain": [
       "['False Life',\n",
       " 'Jump',\n",
       " 'Charm Person',\n",
       " 'Absorb Elements',\n",
       " 'Tasha’s Hideous Laughter',\n",
       " 'Disguise Self',\n",
       " 'Cause Fear']"
      ]
     },
     "execution_count": 318,
     "metadata": {},
     "output_type": "execute_result"
    }
   ],
   "source": [
    "pick_spells(class_df,'1st',random.choice(['wizard','cleric','bard','warlock']),n=random.randrange(1,11))"
   ]
  },
  {
   "cell_type": "code",
   "execution_count": 265,
   "id": "3572aa96",
   "metadata": {},
   "outputs": [
    {
     "data": {
      "text/plain": [
       "['Spell scroll (9th level) - Cleric',\n",
       " 'Potion of storm giant strength',\n",
       " 'Spell scroll (8th level) - Warlock',\n",
       " 'Spell scroll (8th level) - Bard',\n",
       " 'Arrow of slaying',\n",
       " 'Potion of storm giant strength']"
      ]
     },
     "execution_count": 265,
     "metadata": {},
     "output_type": "execute_result"
    }
   ],
   "source": [
    "pick_items(items_df,table=random.choice(['a','b','c','d','e','f','g','h','i']),n=random.randrange(1,7))"
   ]
  },
  {
   "cell_type": "code",
   "execution_count": 89,
   "id": "17c3d036",
   "metadata": {},
   "outputs": [],
   "source": [
    "class_name = 'wizard'\n",
    "subclass_name = 'base'\n",
    "level = '1st'\n",
    "party = ['wizard','cleric','peace','bard','warlock','fiend']"
   ]
  },
  {
   "cell_type": "code",
   "execution_count": 131,
   "id": "2c27073f",
   "metadata": {},
   "outputs": [
    {
     "data": {
      "text/html": [
       "<div>\n",
       "<style scoped>\n",
       "    .dataframe tbody tr th:only-of-type {\n",
       "        vertical-align: middle;\n",
       "    }\n",
       "\n",
       "    .dataframe tbody tr th {\n",
       "        vertical-align: top;\n",
       "    }\n",
       "\n",
       "    .dataframe thead th {\n",
       "        text-align: right;\n",
       "    }\n",
       "</style>\n",
       "<table border=\"1\" class=\"dataframe\">\n",
       "  <thead>\n",
       "    <tr style=\"text-align: right;\">\n",
       "      <th></th>\n",
       "      <th>d100</th>\n",
       "    </tr>\n",
       "  </thead>\n",
       "  <tbody>\n",
       "    <tr>\n",
       "      <th>0</th>\n",
       "      <td>1</td>\n",
       "    </tr>\n",
       "    <tr>\n",
       "      <th>1</th>\n",
       "      <td>2</td>\n",
       "    </tr>\n",
       "    <tr>\n",
       "      <th>2</th>\n",
       "      <td>3</td>\n",
       "    </tr>\n",
       "    <tr>\n",
       "      <th>3</th>\n",
       "      <td>4</td>\n",
       "    </tr>\n",
       "    <tr>\n",
       "      <th>4</th>\n",
       "      <td>5</td>\n",
       "    </tr>\n",
       "    <tr>\n",
       "      <th>...</th>\n",
       "      <td>...</td>\n",
       "    </tr>\n",
       "    <tr>\n",
       "      <th>95</th>\n",
       "      <td>96</td>\n",
       "    </tr>\n",
       "    <tr>\n",
       "      <th>96</th>\n",
       "      <td>97</td>\n",
       "    </tr>\n",
       "    <tr>\n",
       "      <th>97</th>\n",
       "      <td>98</td>\n",
       "    </tr>\n",
       "    <tr>\n",
       "      <th>98</th>\n",
       "      <td>99</td>\n",
       "    </tr>\n",
       "    <tr>\n",
       "      <th>99</th>\n",
       "      <td>100</td>\n",
       "    </tr>\n",
       "  </tbody>\n",
       "</table>\n",
       "<p>100 rows × 1 columns</p>\n",
       "</div>"
      ],
      "text/plain": [
       "    d100\n",
       "0      1\n",
       "1      2\n",
       "2      3\n",
       "3      4\n",
       "4      5\n",
       "..   ...\n",
       "95    96\n",
       "96    97\n",
       "97    98\n",
       "98    99\n",
       "99   100\n",
       "\n",
       "[100 rows x 1 columns]"
      ]
     },
     "execution_count": 131,
     "metadata": {},
     "output_type": "execute_result"
    }
   ],
   "source": [
    "pd.DataFrame(pd.Series(range(0,100),name='d100').apply(lambda x: x+1))"
   ]
  },
  {
   "cell_type": "code",
   "execution_count": 141,
   "id": "4ab8c306",
   "metadata": {},
   "outputs": [
    {
     "data": {
      "text/plain": [
       "17"
      ]
     },
     "execution_count": 141,
     "metadata": {},
     "output_type": "execute_result"
    }
   ],
   "source": [
    "random.randrange(1,101)"
   ]
  },
  {
   "cell_type": "code",
   "execution_count": null,
   "id": "464e968a",
   "metadata": {},
   "outputs": [],
   "source": []
  }
 ],
 "metadata": {
  "kernelspec": {
   "display_name": "Python 3 (ipykernel)",
   "language": "python",
   "name": "python3"
  },
  "language_info": {
   "codemirror_mode": {
    "name": "ipython",
    "version": 3
   },
   "file_extension": ".py",
   "mimetype": "text/x-python",
   "name": "python",
   "nbconvert_exporter": "python",
   "pygments_lexer": "ipython3",
   "version": "3.9.7"
  }
 },
 "nbformat": 4,
 "nbformat_minor": 5
}
